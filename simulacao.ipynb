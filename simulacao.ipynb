import random
import matplotlib.pyplot as plt
import numpy as np

#atividade de ME323
#Simula��o - candidatos A e B

#Gabriel Kenji Guimar�es Deguchi, RA: 216295
#Lucca Chab� Santos, RA: 202160
#Jos� Antonio Mauad Leis, RA: 219061

def main():
    a = 3000
    n = 10000
    media = 0
    desvio = 0
    lista = []
    lista = chapeu(n, a, lista)
    media = getMedia(lista)
    desvio = getDesvio(media, lista)
    print("Histograma da distribui��o normal dos valores de p-chap�u para n (gr�fico 1) =", n)  
    print("M�dia:", media) 
    print("Desvio padr�o:", desvio)
    plt.subplot(211)
    plt.hist(np.random.normal(lista), bins=20)
    plt.xlabel(n)
     
    lista = []
    n = 100
    lista = chapeu(n, a, lista)
    media = getMedia(lista)
    desvio = getDesvio(media, lista)
    print("Histograma da distribui��o normal dos valores de p-chap�u para n (gr�fico 2) =", n)  
    print("M�dia:", media) 
    print("Desvio padr�o:", desvio)
    plt.subplot(212)
    plt.hist(np.random.normal(lista), bins=20)
    plt.xlabel(n)
    plt.subplots_adjust(hspace = 0.45)
    
        

def chapeu(tamanho, favoravel, lista):
    for i in range(2000):
        temp = tamanho
        temp2 = favoravel
        a = 0
        while(temp > 0):
            voto = random.randint(0,1)
            if(voto == 1):
                if(temp2 > 0):
                    a = a+1
                    temp2 = temp2 - 1
            temp = temp - 1
        lista.append(a/tamanho)            
    return lista
    
    

def getMedia(lista):
    if len(lista) == 0:
        return 0
    return sum(lista)/len(lista)

def getDesvio(media, lista):
    dp = 0
    for i in range(len(lista)):
        dp = dp + (((lista[i]-media)*(lista[i]-media))/len(lista))
    return dp

main()